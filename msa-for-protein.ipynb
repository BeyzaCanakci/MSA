{
 "cells": [
  {
   "cell_type": "code",
   "execution_count": 1,
   "metadata": {},
   "outputs": [],
   "source": [
    "from Bio.Seq import Seq \n",
    "from Bio.SeqRecord import SeqRecord\n",
    "from Bio.Align import MultipleSeqAlignment\n",
    "\n",
    "align = MultipleSeqAlignment(\n",
    "    [\n",
    "        SeqRecord(Seq(\"QFTDVDCSVSKECWSVCKDLFGVDRGKCMGKKCRCYQ\"), id=\"P24663.2\"),\n",
    "        SeqRecord(Seq(\"QFTDVKCTVTKQCWPVCKKMFGRPNGKCMNGKCRCY-\"), id=\"C0HJQ7.1\"),\n",
    "        SeqRecord(Seq(\"QFTDVKCTASKQCWPVCNQMFGKPNGKCMNGKCRCY-\"), id=\"H2ER23.1\"),\n",
    "        SeqRecord(Seq(\"QFTDVKCTGSKQCWPVCKQMFGKPNGKCMNGKCRCY-\"), id=\"Q9NII6.1\"),\n",
    "        SeqRecord(Seq(\"QFTQESCTASNQCWSICKRLHNTNRGKCMNKKCRCY-\"), id=\"P45628.2\"),\n",
    "        SeqRecord(Seq(\"QFTNVSCTTSKECWSVCQRLHNTSRGKCMNKKCRCY-\"), id=\"P13487.4\"),\n",
    "        SeqRecord(Seq(\"QFTDVRCSASSKCWPVCKKLFGTYKGKCKNSKCRCYS\"), id=\"H2ETQ6.1\"),\n",
    "        SeqRecord(Seq(\"QFTNVSCSASSQCWPVCKKLFGTYRGKCMNSKCRCYS\"), id=\"Q9NII5.1\"),\n",
    "        SeqRecord(Seq(\"QFTNVSCSASSQCWPVCEKLFGTYRGKCMNSKCRCYS\"), id=\"H2ER22.1\"),\n",
    "        SeqRecord(Seq(\"QFTDVKCTGTKQCWPVCKKMFGRPNGKCMNGKCRCYP\"), id=\"C0HJQ8.1\"),\n",
    "        SeqRecord(Seq(\"QFTDVSCTTSKECWSVCQRLHNTSIGKCMNKKCRCYS\"), id=\"P59943.1\"),\n",
    "        SeqRecord(Seq(\"TFIDVDCTVSKECWAPCKAAFGVDRGKCMGKKCKCY-\"), id=\"P0C182.1\"),\n",
    "        SeqRecord(Seq(\"-VIDVPCTVSKECWSACKKAVGTDRGKCMGKKCKCYP\"), id=\"C0HJS9.1\"),\n",
    "        SeqRecord(Seq(\"-FIDVSCSVSKECWAPCKAAVGTDRGKCMGKKCRCY-\"), id=\"P0C167.1\"),\n",
    "\n",
    "    ]\n",
    ")"
   ]
  },
  {
   "cell_type": "code",
   "execution_count": 2,
   "metadata": {},
   "outputs": [
    {
     "name": "stdout",
     "output_type": "stream",
     "text": [
      "CLUSTAL X (1.81) multiple sequence alignment\n",
      "\n",
      "\n",
      "P24663.2                            QFTDVDCSVSKECWSVCKDLFGVDRGKCMGKKCRCYQ\n",
      "C0HJQ7.1                            QFTDVKCTVTKQCWPVCKKMFGRPNGKCMNGKCRCY-\n",
      "H2ER23.1                            QFTDVKCTASKQCWPVCNQMFGKPNGKCMNGKCRCY-\n",
      "Q9NII6.1                            QFTDVKCTGSKQCWPVCKQMFGKPNGKCMNGKCRCY-\n",
      "P45628.2                            QFTQESCTASNQCWSICKRLHNTNRGKCMNKKCRCY-\n",
      "P13487.4                            QFTNVSCTTSKECWSVCQRLHNTSRGKCMNKKCRCY-\n",
      "H2ETQ6.1                            QFTDVRCSASSKCWPVCKKLFGTYKGKCKNSKCRCYS\n",
      "Q9NII5.1                            QFTNVSCSASSQCWPVCKKLFGTYRGKCMNSKCRCYS\n",
      "H2ER22.1                            QFTNVSCSASSQCWPVCEKLFGTYRGKCMNSKCRCYS\n",
      "C0HJQ8.1                            QFTDVKCTGTKQCWPVCKKMFGRPNGKCMNGKCRCYP\n",
      "P59943.1                            QFTDVSCTTSKECWSVCQRLHNTSIGKCMNKKCRCYS\n",
      "P0C182.1                            TFIDVDCTVSKECWAPCKAAFGVDRGKCMGKKCKCY-\n",
      "C0HJS9.1                            -VIDVPCTVSKECWSACKKAVGTDRGKCMGKKCKCYP\n",
      "P0C167.1                            -FIDVSCSVSKECWAPCKAAVGTDRGKCMGKKCRCY-\n",
      "\n",
      "\n",
      "\n"
     ]
    }
   ],
   "source": [
    "from Bio import AlignIO\n",
    "from io import StringIO\n",
    "\n",
    "online_result = StringIO()\n",
    "AlignIO.write(align, online_result, \"clustal\") #to see clustal format. It is more clear to see the alignments\n",
    "msa_as_clustal = online_result.getvalue()\n",
    "print(msa_as_clustal)"
   ]
  }
 ],
 "metadata": {
  "kernelspec": {
   "display_name": "base",
   "language": "python",
   "name": "python3"
  },
  "language_info": {
   "codemirror_mode": {
    "name": "ipython",
    "version": 3
   },
   "file_extension": ".py",
   "mimetype": "text/x-python",
   "name": "python",
   "nbconvert_exporter": "python",
   "pygments_lexer": "ipython3",
   "version": "3.9.7 (default, Sep 16 2021, 08:50:36) \n[Clang 10.0.0 ]"
  },
  "orig_nbformat": 4,
  "vscode": {
   "interpreter": {
    "hash": "f9a62ac877e260613139e76a422659ee495ee77b1cd551fc3a736e2f7bafa0b3"
   }
  }
 },
 "nbformat": 4,
 "nbformat_minor": 2
}
